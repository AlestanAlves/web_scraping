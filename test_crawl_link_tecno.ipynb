{
 "cells": [
  {
   "cell_type": "code",
   "execution_count": 37,
   "metadata": {},
   "outputs": [
    {
     "name": "stdout",
     "output_type": "stream",
     "text": [
      " https://tecnoblog.net/315191/disney-plus-contas-invadidas-vendidas-dark-webDisney tem contas invadidas e vendidas na dark web\n"
     ]
    }
   ],
   "source": [
    "import urllib\n",
    "\n",
    "content = urllib.request.urlopen(\"https://tecnoblog.net/\").read()\n",
    "content = str(content)\n",
    "find = '<h2>'\n",
    "posicao = int(content.index(find) + len(find))\n",
    "link = content[ posicao : posicao  + 142]\n",
    "linkClear = link.replace('<a', '').replace('href=', '').replace('\"', '').replace('/>', '').replace('+', '').replace('</a>', '')\n",
    "print (linkClear)"
   ]
  },
  {
   "cell_type": "code",
   "execution_count": null,
   "metadata": {},
   "outputs": [],
   "source": []
  }
 ],
 "metadata": {
  "kernelspec": {
   "display_name": "Python 3",
   "language": "python",
   "name": "python3"
  },
  "language_info": {
   "codemirror_mode": {
    "name": "ipython",
    "version": 3
   },
   "file_extension": ".py",
   "mimetype": "text/x-python",
   "name": "python",
   "nbconvert_exporter": "python",
   "pygments_lexer": "ipython3",
   "version": "3.6.8"
  }
 },
 "nbformat": 4,
 "nbformat_minor": 2
}

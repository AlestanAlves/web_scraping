{
 "cells": [
  {
   "cell_type": "code",
   "execution_count": 32,
   "metadata": {},
   "outputs": [
    {
     "name": "stdout",
     "output_type": "stream",
     "text": [
      "CNPJ: 33.513.3370001-51 - 33513337000151 Raz\\xc3\\xa3o Social: Restaurante Fogao Veio Eireli  Nome Fantasia: Fogao Veio  Data da Aertura: 02052019  Caital Social: R$ 99.800,00   Tio: MATRIZ Situa\\xc3\\xa7\\xc3\\xa3o: ATIVA Natureza Jur\\xc3\\xaddica: Emresa Inidual de Resonsailidade Limitada (de Natureza Emres\\xc3\\xa1ria) ins \"adsygoogle\" style=\"dislay:lock; text-align:center;\" data-ad-layout=\"in-article\" data-ad-format=\"fluid\" data-ad-client=\"ca-u-8953612832270972\" data-ad-slot=\"3826240425\"ins  Contatos  E-mail: gruojmo@gmail.com a href=\"mailto:gruojmo@gmail.com\"(Enviar E-mail)   Telefone(s): r  (11) 2967-3313 a href=\"tel:1129673313\" (Ligar) r      Localiza\\xc3\\xa7\\xc3\\xa3o Logradouro: Behring, 352  Comlemento: Terreoaixos  Bairro: Bras CEP: 03023-020 Munic\\xc3\\xadio: S\\xc3\\xa3o Paulo Estado: S\\xc3\\xa3o Paulo Para corresond\\xc3\\xaancia: rFogao Veio Restaurante Fogao Veio Eireli r Behring 352 Terreoaixosr Brasr S\\xc3\\xa3o Paulo SP r 03023-020r   Atividades - CNAES   \"row\"  \"col c12\"Princial: san onclick=\"hideshow(\\'56.11-2-01\\')\"u56.11-2-01 - Restaurantes e similaresui \"ico-xs\" id=\"56.11-2-01ico\"\\xe2\\x87\\xa7isan     \"order-\" id=\"56.11-2-01\"   \"row\"  \"col c12\"Esta atividade comreende:   \"row\"  \"col c12\"i- as atividades de vender e servir comida rearada, com ou sem eidas alco\\xc3\\x3licas ao \\xc3\\xalico em geral, com servi\\xc3\\xa7o comletor \\n- os restaurantes self-service ou de comida a quilor \\n- as atividades de restaurante e ares em emarca\\xc3\\xa7\\xc3\\x5es exlorados or terceirosi     \"row\"  \"col c12\"Descritores da atividade:   \"row\"i  Restaurante com servi\\xc3\\xa7o comleto,  Servi\\xc3\\xa7o de restaurantes e ares em emarca\\xc3\\xa7\\xc3\\x5es exlorados or terceiros,  Restaurantes e similares,  Servi\\xc3\\xa7os de alimenta\\xc3\\xa7\\xc3\\xa3o com servi\\xc3\\xa7o comleto,  Alimenta\\xc3\\xa7\\xc3\\xa3o, comida, refei\\xc3\\xa7\\xc3\\xa3o a eso,  Servi\\xc3\\xa7o de alimenta\\xc3\\xa7\\xc3\\xa3o rotisseria,  Servi\\xc3\\xa7o de alimenta\\xc3\\xa7\\xc3\\xa3o churrascaria,  Servi\\xc3\\xa7o de alimenta\\xc3\\xa7\\xc3\\xa3o trattoria,  Servi\\xc3\\xa7o de alimenta\\xc3\\xa7\\xc3\\xa3o self-service,  Servi\\xc3\\xa7o de alimenta\\xc3\\xa7\\xc3\\xa3o a quilo,  Servi\\xc3\\xa7o de alimenta\\xc3\\xa7\\xc3\\xa3o exlora\\xc3\\xa7\\xc3\\xa3o de vag\\xc3\\x5es-restaurantes, or terceiros,  Servi\\xc3\\xa7o de restaurante or comida a quilo,  Alimenta\\xc3\\xa7\\xc3\\xa3o, comida, refei\\xc3\\xa7\\xc3\\xa3o a kilo,  Servi\\xc3\\xa7o de alimenta\\xc3\\xa7\\xc3\\xa3o ens\\xc3\\xa3o\n"
     ]
    }
   ],
   "source": [
    "import urllib as urllib2\n",
    "import requests\n",
    "\n",
    "content = urllib2.request.urlopen(\"https://cnpj.biz/33513337000151\").read()\n",
    "content = str(content)\n",
    "find = '<p>'\n",
    "posicao = int(content.index(find) + len(find))\n",
    "cnpj = content[posicao:posicao + 3000]\n",
    "findClear = cnpj.replace('p', '').replace('>', '').replace('<', '').replace('b', '').replace('h2', '').replace('/h2', '').replace('div', '').replace('/a', '').replace('<a', '').replace('/', '').replace('class=', '').replace('\"\\\"', '')\n",
    "print(findClear)"
   ]
  },
  {
   "cell_type": "code",
   "execution_count": null,
   "metadata": {},
   "outputs": [],
   "source": []
  }
 ],
 "metadata": {
  "kernelspec": {
   "display_name": "Python 3",
   "language": "python",
   "name": "python3"
  },
  "language_info": {
   "codemirror_mode": {
    "name": "ipython",
    "version": 3
   },
   "file_extension": ".py",
   "mimetype": "text/x-python",
   "name": "python",
   "nbconvert_exporter": "python",
   "pygments_lexer": "ipython3",
   "version": "3.6.8"
  }
 },
 "nbformat": 4,
 "nbformat_minor": 2
}
